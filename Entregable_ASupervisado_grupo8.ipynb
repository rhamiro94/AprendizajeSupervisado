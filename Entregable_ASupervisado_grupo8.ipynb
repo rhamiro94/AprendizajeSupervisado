{
  "nbformat": 4,
  "nbformat_minor": 0,
  "metadata": {
    "colab": {
      "name": "Entregable_ASupervisado_grupo8.ipynb",
      "provenance": [],
      "collapsed_sections": [],
      "include_colab_link": true
    },
    "kernelspec": {
      "name": "python3",
      "display_name": "Python 3"
    },
    "language_info": {
      "name": "python"
    }
  },
  "cells": [
    {
      "cell_type": "markdown",
      "metadata": {
        "id": "view-in-github",
        "colab_type": "text"
      },
      "source": [
        "<a href=\"https://colab.research.google.com/github/rhamiro94/AprendizajeSupervisado/blob/master/Entregable_ASupervisado_grupo8.ipynb\" target=\"_parent\"><img src=\"https://colab.research.google.com/assets/colab-badge.svg\" alt=\"Open In Colab\"/></a>"
      ]
    },
    {
      "cell_type": "markdown",
      "metadata": {
        "id": "3wbDO34td3eR"
      },
      "source": [
        "# Entregable Práctico - Aprendizaje Supervisado \n"
      ]
    },
    {
      "cell_type": "markdown",
      "metadata": {
        "id": "Ns6_pcOkeTCK"
      },
      "source": [
        "*Consignas*\n",
        "\n",
        "https://github.com/DiploDatos/AprendizajeSupervisado/tree/master/practico"
      ]
    },
    {
      "cell_type": "markdown",
      "metadata": {
        "id": "ah3VT-BiUCuj"
      },
      "source": [
        "# 1) Exploratory Data Analysis (EDA)"
      ]
    },
    {
      "cell_type": "code",
      "metadata": {
        "id": "0C_jOFc8W8ct"
      },
      "source": [
        "import pandas as pd\n",
        "import numpy as np\n",
        "import matplotlib.pyplot as plt\n",
        "import seaborn as sns"
      ],
      "execution_count": null,
      "outputs": []
    },
    {
      "cell_type": "code",
      "metadata": {
        "id": "xuXcXf5kUWnN"
      },
      "source": [
        "# Apertura del dataset desde Google Drive\n",
        "\n",
        "from pydrive.auth import GoogleAuth\n",
        "from pydrive.drive import GoogleDrive\n",
        "from google.colab import auth\n",
        "from oauth2client.client import GoogleCredentials\n",
        "\n",
        "def connect_to_drive():\n",
        "  auth.authenticate_user()\n",
        "  gauth = GoogleAuth()\n",
        "  gauth.credentials = GoogleCredentials.get_application_default()\n",
        "  return GoogleDrive(gauth)\n",
        "\n",
        "def read_csv_from_drive(drive, id, filename):\n",
        "  downloaded = drive.CreateFile({'id':id}) \n",
        "  downloaded.GetContentFile(filename)  \n",
        "  return pd.read_csv(filename)\n",
        "\n",
        "drive = connect_to_drive()  # utilización de la función de apertura de archivos desde drive"
      ],
      "execution_count": null,
      "outputs": []
    },
    {
      "cell_type": "code",
      "metadata": {
        "colab": {
          "base_uri": "https://localhost:8080/",
          "height": 206
        },
        "id": "_XEZeLf3WpDK",
        "outputId": "ae670d2b-4995-4bbc-ca19-272ad743da61"
      },
      "source": [
        "# Lectura train\n",
        "train = read_csv_from_drive(drive, '1gxrJGBaG7hYDp_p15Sfb0COjvry_8-HD', 'travel_insurance_prediction_train.csv') # el 2° parámetro es el id del archivo (terminación del link en drive)\n",
        "\n",
        "train.head()"
      ],
      "execution_count": null,
      "outputs": [
        {
          "output_type": "execute_result",
          "data": {
            "text/html": [
              "<div>\n",
              "<style scoped>\n",
              "    .dataframe tbody tr th:only-of-type {\n",
              "        vertical-align: middle;\n",
              "    }\n",
              "\n",
              "    .dataframe tbody tr th {\n",
              "        vertical-align: top;\n",
              "    }\n",
              "\n",
              "    .dataframe thead th {\n",
              "        text-align: right;\n",
              "    }\n",
              "</style>\n",
              "<table border=\"1\" class=\"dataframe\">\n",
              "  <thead>\n",
              "    <tr style=\"text-align: right;\">\n",
              "      <th></th>\n",
              "      <th>Customer</th>\n",
              "      <th>Age</th>\n",
              "      <th>Employment Type</th>\n",
              "      <th>GraduateOrNot</th>\n",
              "      <th>AnnualIncome</th>\n",
              "      <th>FamilyMembers</th>\n",
              "      <th>ChronicDiseases</th>\n",
              "      <th>FrequentFlyer</th>\n",
              "      <th>EverTravelledAbroad</th>\n",
              "      <th>TravelInsurance</th>\n",
              "    </tr>\n",
              "  </thead>\n",
              "  <tbody>\n",
              "    <tr>\n",
              "      <th>0</th>\n",
              "      <td>1</td>\n",
              "      <td>33</td>\n",
              "      <td>Private Sector/Self Employed</td>\n",
              "      <td>Yes</td>\n",
              "      <td>550000</td>\n",
              "      <td>6</td>\n",
              "      <td>0</td>\n",
              "      <td>No</td>\n",
              "      <td>No</td>\n",
              "      <td>1</td>\n",
              "    </tr>\n",
              "    <tr>\n",
              "      <th>1</th>\n",
              "      <td>2</td>\n",
              "      <td>28</td>\n",
              "      <td>Private Sector/Self Employed</td>\n",
              "      <td>Yes</td>\n",
              "      <td>800000</td>\n",
              "      <td>7</td>\n",
              "      <td>0</td>\n",
              "      <td>Yes</td>\n",
              "      <td>No</td>\n",
              "      <td>0</td>\n",
              "    </tr>\n",
              "    <tr>\n",
              "      <th>2</th>\n",
              "      <td>3</td>\n",
              "      <td>31</td>\n",
              "      <td>Private Sector/Self Employed</td>\n",
              "      <td>Yes</td>\n",
              "      <td>1250000</td>\n",
              "      <td>4</td>\n",
              "      <td>0</td>\n",
              "      <td>No</td>\n",
              "      <td>No</td>\n",
              "      <td>0</td>\n",
              "    </tr>\n",
              "    <tr>\n",
              "      <th>3</th>\n",
              "      <td>4</td>\n",
              "      <td>31</td>\n",
              "      <td>Government Sector</td>\n",
              "      <td>No</td>\n",
              "      <td>300000</td>\n",
              "      <td>7</td>\n",
              "      <td>0</td>\n",
              "      <td>No</td>\n",
              "      <td>No</td>\n",
              "      <td>0</td>\n",
              "    </tr>\n",
              "    <tr>\n",
              "      <th>4</th>\n",
              "      <td>5</td>\n",
              "      <td>28</td>\n",
              "      <td>Private Sector/Self Employed</td>\n",
              "      <td>Yes</td>\n",
              "      <td>1250000</td>\n",
              "      <td>3</td>\n",
              "      <td>0</td>\n",
              "      <td>No</td>\n",
              "      <td>No</td>\n",
              "      <td>0</td>\n",
              "    </tr>\n",
              "  </tbody>\n",
              "</table>\n",
              "</div>"
            ],
            "text/plain": [
              "   Customer  Age  ... EverTravelledAbroad TravelInsurance\n",
              "0         1   33  ...                  No               1\n",
              "1         2   28  ...                  No               0\n",
              "2         3   31  ...                  No               0\n",
              "3         4   31  ...                  No               0\n",
              "4         5   28  ...                  No               0\n",
              "\n",
              "[5 rows x 10 columns]"
            ]
          },
          "metadata": {},
          "execution_count": 14
        }
      ]
    },
    {
      "cell_type": "code",
      "metadata": {
        "colab": {
          "base_uri": "https://localhost:8080/",
          "height": 206
        },
        "id": "lbVVkJ9jWqQT",
        "outputId": "7e3c1ee7-0284-444c-d0d2-3f8fee65afd4"
      },
      "source": [
        "# Lectura test\n",
        "test = read_csv_from_drive(drive, '1d55KFGEszvA0FFGqbO6iAlIZytADoP01', 'travel_insurance_prediction_test.csv')\n",
        "\n",
        "test.head()"
      ],
      "execution_count": null,
      "outputs": [
        {
          "output_type": "execute_result",
          "data": {
            "text/html": [
              "<div>\n",
              "<style scoped>\n",
              "    .dataframe tbody tr th:only-of-type {\n",
              "        vertical-align: middle;\n",
              "    }\n",
              "\n",
              "    .dataframe tbody tr th {\n",
              "        vertical-align: top;\n",
              "    }\n",
              "\n",
              "    .dataframe thead th {\n",
              "        text-align: right;\n",
              "    }\n",
              "</style>\n",
              "<table border=\"1\" class=\"dataframe\">\n",
              "  <thead>\n",
              "    <tr style=\"text-align: right;\">\n",
              "      <th></th>\n",
              "      <th>Customer</th>\n",
              "      <th>Age</th>\n",
              "      <th>Employment Type</th>\n",
              "      <th>GraduateOrNot</th>\n",
              "      <th>AnnualIncome</th>\n",
              "      <th>FamilyMembers</th>\n",
              "      <th>ChronicDiseases</th>\n",
              "      <th>FrequentFlyer</th>\n",
              "      <th>EverTravelledAbroad</th>\n",
              "    </tr>\n",
              "  </thead>\n",
              "  <tbody>\n",
              "    <tr>\n",
              "      <th>0</th>\n",
              "      <td>1491</td>\n",
              "      <td>29</td>\n",
              "      <td>Private Sector/Self Employed</td>\n",
              "      <td>Yes</td>\n",
              "      <td>1100000</td>\n",
              "      <td>4</td>\n",
              "      <td>0</td>\n",
              "      <td>No</td>\n",
              "      <td>No</td>\n",
              "    </tr>\n",
              "    <tr>\n",
              "      <th>1</th>\n",
              "      <td>1492</td>\n",
              "      <td>28</td>\n",
              "      <td>Private Sector/Self Employed</td>\n",
              "      <td>Yes</td>\n",
              "      <td>750000</td>\n",
              "      <td>5</td>\n",
              "      <td>1</td>\n",
              "      <td>Yes</td>\n",
              "      <td>No</td>\n",
              "    </tr>\n",
              "    <tr>\n",
              "      <th>2</th>\n",
              "      <td>1493</td>\n",
              "      <td>31</td>\n",
              "      <td>Government Sector</td>\n",
              "      <td>Yes</td>\n",
              "      <td>1500000</td>\n",
              "      <td>4</td>\n",
              "      <td>0</td>\n",
              "      <td>Yes</td>\n",
              "      <td>Yes</td>\n",
              "    </tr>\n",
              "    <tr>\n",
              "      <th>3</th>\n",
              "      <td>1494</td>\n",
              "      <td>28</td>\n",
              "      <td>Private Sector/Self Employed</td>\n",
              "      <td>Yes</td>\n",
              "      <td>1400000</td>\n",
              "      <td>3</td>\n",
              "      <td>0</td>\n",
              "      <td>No</td>\n",
              "      <td>Yes</td>\n",
              "    </tr>\n",
              "    <tr>\n",
              "      <th>4</th>\n",
              "      <td>1495</td>\n",
              "      <td>33</td>\n",
              "      <td>Private Sector/Self Employed</td>\n",
              "      <td>Yes</td>\n",
              "      <td>1500000</td>\n",
              "      <td>4</td>\n",
              "      <td>0</td>\n",
              "      <td>Yes</td>\n",
              "      <td>Yes</td>\n",
              "    </tr>\n",
              "  </tbody>\n",
              "</table>\n",
              "</div>"
            ],
            "text/plain": [
              "   Customer  Age  ... FrequentFlyer EverTravelledAbroad\n",
              "0      1491   29  ...            No                  No\n",
              "1      1492   28  ...           Yes                  No\n",
              "2      1493   31  ...           Yes                 Yes\n",
              "3      1494   28  ...            No                 Yes\n",
              "4      1495   33  ...           Yes                 Yes\n",
              "\n",
              "[5 rows x 9 columns]"
            ]
          },
          "metadata": {},
          "execution_count": 15
        }
      ]
    },
    {
      "cell_type": "markdown",
      "metadata": {
        "id": "allL2M6MYmCE"
      },
      "source": [
        "El dataset consiste en datos de una Agencia de Turismo que ofrece paquetes de seguro de viaje a sus clientes. Las variables que incluye son: \n",
        "\n",
        "* `Age`: Edad del cliente. \n",
        "* `Employment Type`: Sector al que pertenece el empleo del cliente. \n",
        "* `GraduateOrNot`: \"Yes\" si el cliente se graduó o \"No\" en caso contrario. \n",
        "* `AnnualIncome`: Ingreso anual del cliente, medido en rupias indias. \n",
        "* `FamilyMembers`: número de miembros en la familia del cliente. \n",
        "* `ChronicDisease`: si el cliente sufre de una enfermedad crónica o condición. \n",
        "* `FrequentFlyer`: \"Yes\" si el cliente es viajero frecuento y \"No\" si no lo es. Esto se basa en el historial de compra de pasajes aereos. \n",
        "* `EverTravelledAbroad`: \"Yes\" si el cliente ha viajado al extranjero (no necesariamente utilizando los servicios de esta compañia) y \"No\" en caso contrario. \n",
        "* `TravelInsurance`: Variable objetivo. \"Yes\" si el cliente ha comprado el paquete de seguro de viaje y \"No\" si no lo ha hecho. "
      ]
    },
    {
      "cell_type": "markdown",
      "metadata": {
        "id": "agJ6KEqBeLt5"
      },
      "source": [
        "A partir de aqui se trabajará con el dataset de train ya que contiene información de todas las variables mencionadas (en test no contamos con la variable target `TravelInsurance`). "
      ]
    },
    {
      "cell_type": "code",
      "metadata": {
        "colab": {
          "base_uri": "https://localhost:8080/"
        },
        "id": "sUGWXVThYaKJ",
        "outputId": "a7d5ef03-f7fc-44ed-893e-31c4906728d3"
      },
      "source": [
        "# Tipo de datos:\n",
        "train.dtypes"
      ],
      "execution_count": null,
      "outputs": [
        {
          "output_type": "execute_result",
          "data": {
            "text/plain": [
              "Customer                int64\n",
              "Age                     int64\n",
              "Employment Type        object\n",
              "GraduateOrNot          object\n",
              "AnnualIncome            int64\n",
              "FamilyMembers           int64\n",
              "ChronicDiseases         int64\n",
              "FrequentFlyer          object\n",
              "EverTravelledAbroad    object\n",
              "TravelInsurance         int64\n",
              "dtype: object"
            ]
          },
          "metadata": {},
          "execution_count": 16
        }
      ]
    },
    {
      "cell_type": "code",
      "metadata": {
        "colab": {
          "base_uri": "https://localhost:8080/"
        },
        "id": "eVG4qV0xfvUt",
        "outputId": "ff65c7fd-cbc9-4091-d9e8-f502a4db6934"
      },
      "source": [
        "#Dimensión del dataset\n",
        "train.shape"
      ],
      "execution_count": null,
      "outputs": [
        {
          "output_type": "execute_result",
          "data": {
            "text/plain": [
              "(1490, 10)"
            ]
          },
          "metadata": {},
          "execution_count": 17
        }
      ]
    },
    {
      "cell_type": "code",
      "metadata": {
        "colab": {
          "base_uri": "https://localhost:8080/"
        },
        "id": "YzYJKadLf7nm",
        "outputId": "7fb845ac-f1e6-401a-b723-9382e8c7bd69"
      },
      "source": [
        "#Numero de valores nulos\n",
        "train.isna().sum()"
      ],
      "execution_count": null,
      "outputs": [
        {
          "output_type": "execute_result",
          "data": {
            "text/plain": [
              "Customer               0\n",
              "Age                    0\n",
              "Employment Type        0\n",
              "GraduateOrNot          0\n",
              "AnnualIncome           0\n",
              "FamilyMembers          0\n",
              "ChronicDiseases        0\n",
              "FrequentFlyer          0\n",
              "EverTravelledAbroad    0\n",
              "TravelInsurance        0\n",
              "dtype: int64"
            ]
          },
          "metadata": {},
          "execution_count": 18
        }
      ]
    },
    {
      "cell_type": "code",
      "metadata": {
        "id": "gTmuteuBmYfN"
      },
      "source": [
        "#Analizamos la variable objetivo\n",
        "#Para ello utilizamos la base de entrenamiento \"Train\" que contiene datos para esta variable.\n",
        "#A fines expositivos crearemos una df_train que contenga solo a nuestra variable objetivo pero con etiquetas distintas.\n",
        "s_train=train['TravelInsurance']\n",
        "df_train=s_train.to_frame(name='Seg_viaje')"
      ],
      "execution_count": null,
      "outputs": []
    },
    {
      "cell_type": "code",
      "metadata": {
        "id": "w3qrzb8PHbKf"
      },
      "source": [
        "#Hago el cambio de dicotómicas a cualitativas\n",
        "# Si: 1 , No : 0\n",
        "df_train['Seg_viaje'] = df_train['Seg_viaje'].map({1:'SI', 0:'NO'})"
      ],
      "execution_count": null,
      "outputs": []
    },
    {
      "cell_type": "code",
      "metadata": {
        "colab": {
          "base_uri": "https://localhost:8080/",
          "height": 423
        },
        "id": "nRuzR4XFLV1p",
        "outputId": "9e9b87c5-8c8d-4e69-ef8d-6f5f45e3dd92"
      },
      "source": [
        "#Este nuevo data frame lo creo para poder graficar el comportamiento de la variable objetivo como refleja la misma\n",
        "#info que el conjunto de datos train pero con otras etiquetas no modifica el resutlado.\n",
        "df_train"
      ],
      "execution_count": null,
      "outputs": [
        {
          "output_type": "execute_result",
          "data": {
            "text/html": [
              "<div>\n",
              "<style scoped>\n",
              "    .dataframe tbody tr th:only-of-type {\n",
              "        vertical-align: middle;\n",
              "    }\n",
              "\n",
              "    .dataframe tbody tr th {\n",
              "        vertical-align: top;\n",
              "    }\n",
              "\n",
              "    .dataframe thead th {\n",
              "        text-align: right;\n",
              "    }\n",
              "</style>\n",
              "<table border=\"1\" class=\"dataframe\">\n",
              "  <thead>\n",
              "    <tr style=\"text-align: right;\">\n",
              "      <th></th>\n",
              "      <th>Seg_viaje</th>\n",
              "    </tr>\n",
              "  </thead>\n",
              "  <tbody>\n",
              "    <tr>\n",
              "      <th>0</th>\n",
              "      <td>SI</td>\n",
              "    </tr>\n",
              "    <tr>\n",
              "      <th>1</th>\n",
              "      <td>NO</td>\n",
              "    </tr>\n",
              "    <tr>\n",
              "      <th>2</th>\n",
              "      <td>NO</td>\n",
              "    </tr>\n",
              "    <tr>\n",
              "      <th>3</th>\n",
              "      <td>NO</td>\n",
              "    </tr>\n",
              "    <tr>\n",
              "      <th>4</th>\n",
              "      <td>NO</td>\n",
              "    </tr>\n",
              "    <tr>\n",
              "      <th>...</th>\n",
              "      <td>...</td>\n",
              "    </tr>\n",
              "    <tr>\n",
              "      <th>1485</th>\n",
              "      <td>NO</td>\n",
              "    </tr>\n",
              "    <tr>\n",
              "      <th>1486</th>\n",
              "      <td>NO</td>\n",
              "    </tr>\n",
              "    <tr>\n",
              "      <th>1487</th>\n",
              "      <td>NO</td>\n",
              "    </tr>\n",
              "    <tr>\n",
              "      <th>1488</th>\n",
              "      <td>NO</td>\n",
              "    </tr>\n",
              "    <tr>\n",
              "      <th>1489</th>\n",
              "      <td>NO</td>\n",
              "    </tr>\n",
              "  </tbody>\n",
              "</table>\n",
              "<p>1490 rows × 1 columns</p>\n",
              "</div>"
            ],
            "text/plain": [
              "     Seg_viaje\n",
              "0           SI\n",
              "1           NO\n",
              "2           NO\n",
              "3           NO\n",
              "4           NO\n",
              "...        ...\n",
              "1485        NO\n",
              "1486        NO\n",
              "1487        NO\n",
              "1488        NO\n",
              "1489        NO\n",
              "\n",
              "[1490 rows x 1 columns]"
            ]
          },
          "metadata": {},
          "execution_count": 21
        }
      ]
    },
    {
      "cell_type": "code",
      "metadata": {
        "colab": {
          "base_uri": "https://localhost:8080/",
          "height": 390
        },
        "id": "zclMVUFDNNnX",
        "outputId": "908493cf-f001-4923-81d4-8e0c800481c2"
      },
      "source": [
        "#Gráfico de Torta (izquierda)\n",
        "fig, axs = plt.subplots(ncols= 2, figsize=(12 ,6))\n",
        "plt.subplot(121)\n",
        "pie = plt.pie(df_train[\"Seg_viaje\"].value_counts(), labels= [\"NO\",\"SI\"], \n",
        "autopct = '% 1.1f %%')\n",
        "plt.title(\"Porcentaje de seguro de viajes contratados por clientes\")\n",
        "\n",
        "#Gráfico de Barras Horizontales (derecha)\n",
        "plt.subplot(122)\n",
        "df_train[\"Seg_viaje\"].value_counts().plot.barh()\n",
        "\n",
        "plt.title(\"Frecuencia de Contratación de Seguros de viaje\")\n",
        "plt.legend()\n",
        "plt.show()"
      ],
      "execution_count": null,
      "outputs": [
        {
          "output_type": "display_data",
          "data": {
            "image/png": "[encoded data removed]",
            "text/plain": [
              "<Figure size 864x432 with 2 Axes>"
            ]
          },
          "metadata": {
            "needs_background": "light"
          }
        }
      ]
    },
    {
      "cell_type": "markdown",
      "metadata": {
        "id": "xh6FGn3QQzSp"
      },
      "source": [
        "Podemos observar que la mas de la mitad de los clientes no contrataron un seguro de viaje durante 2019, mientras que apenas un 35% de los mismos si lo hizo."
      ]
    },
    {
      "cell_type": "code",
      "metadata": {
        "colab": {
          "base_uri": "https://localhost:8080/",
          "height": 300
        },
        "id": "E3sS_kw3Rlh0",
        "outputId": "71140a8c-0712-4a69-ca2c-2e1e5e022812"
      },
      "source": [
        "#Analizamos nuestras variables numéricas\n",
        "#Volvemos a trabajar sobre nuestra base df sin nuestra variable objetivo.\n",
        "df_x=train.drop(\"TravelInsurance\", axis=1)\n",
        "df_x.select_dtypes(include=['float64', 'int']).describe()"
      ],
      "execution_count": null,
      "outputs": [
        {
          "output_type": "execute_result",
          "data": {
            "text/html": [
              "<div>\n",
              "<style scoped>\n",
              "    .dataframe tbody tr th:only-of-type {\n",
              "        vertical-align: middle;\n",
              "    }\n",
              "\n",
              "    .dataframe tbody tr th {\n",
              "        vertical-align: top;\n",
              "    }\n",
              "\n",
              "    .dataframe thead th {\n",
              "        text-align: right;\n",
              "    }\n",
              "</style>\n",
              "<table border=\"1\" class=\"dataframe\">\n",
              "  <thead>\n",
              "    <tr style=\"text-align: right;\">\n",
              "      <th></th>\n",
              "      <th>Customer</th>\n",
              "      <th>Age</th>\n",
              "      <th>AnnualIncome</th>\n",
              "      <th>FamilyMembers</th>\n",
              "      <th>ChronicDiseases</th>\n",
              "    </tr>\n",
              "  </thead>\n",
              "  <tbody>\n",
              "    <tr>\n",
              "      <th>count</th>\n",
              "      <td>1490.000000</td>\n",
              "      <td>1490.000000</td>\n",
              "      <td>1.490000e+03</td>\n",
              "      <td>1490.000000</td>\n",
              "      <td>1490.000000</td>\n",
              "    </tr>\n",
              "    <tr>\n",
              "      <th>mean</th>\n",
              "      <td>745.500000</td>\n",
              "      <td>29.667114</td>\n",
              "      <td>9.278188e+05</td>\n",
              "      <td>4.777181</td>\n",
              "      <td>0.275839</td>\n",
              "    </tr>\n",
              "    <tr>\n",
              "      <th>std</th>\n",
              "      <td>430.270264</td>\n",
              "      <td>2.880994</td>\n",
              "      <td>3.811715e+05</td>\n",
              "      <td>1.640248</td>\n",
              "      <td>0.447086</td>\n",
              "    </tr>\n",
              "    <tr>\n",
              "      <th>min</th>\n",
              "      <td>1.000000</td>\n",
              "      <td>25.000000</td>\n",
              "      <td>3.000000e+05</td>\n",
              "      <td>2.000000</td>\n",
              "      <td>0.000000</td>\n",
              "    </tr>\n",
              "    <tr>\n",
              "      <th>25%</th>\n",
              "      <td>373.250000</td>\n",
              "      <td>28.000000</td>\n",
              "      <td>6.000000e+05</td>\n",
              "      <td>4.000000</td>\n",
              "      <td>0.000000</td>\n",
              "    </tr>\n",
              "    <tr>\n",
              "      <th>50%</th>\n",
              "      <td>745.500000</td>\n",
              "      <td>29.000000</td>\n",
              "      <td>9.000000e+05</td>\n",
              "      <td>5.000000</td>\n",
              "      <td>0.000000</td>\n",
              "    </tr>\n",
              "    <tr>\n",
              "      <th>75%</th>\n",
              "      <td>1117.750000</td>\n",
              "      <td>32.000000</td>\n",
              "      <td>1.250000e+06</td>\n",
              "      <td>6.000000</td>\n",
              "      <td>1.000000</td>\n",
              "    </tr>\n",
              "    <tr>\n",
              "      <th>max</th>\n",
              "      <td>1490.000000</td>\n",
              "      <td>35.000000</td>\n",
              "      <td>1.800000e+06</td>\n",
              "      <td>9.000000</td>\n",
              "      <td>1.000000</td>\n",
              "    </tr>\n",
              "  </tbody>\n",
              "</table>\n",
              "</div>"
            ],
            "text/plain": [
              "          Customer          Age  AnnualIncome  FamilyMembers  ChronicDiseases\n",
              "count  1490.000000  1490.000000  1.490000e+03    1490.000000      1490.000000\n",
              "mean    745.500000    29.667114  9.278188e+05       4.777181         0.275839\n",
              "std     430.270264     2.880994  3.811715e+05       1.640248         0.447086\n",
              "min       1.000000    25.000000  3.000000e+05       2.000000         0.000000\n",
              "25%     373.250000    28.000000  6.000000e+05       4.000000         0.000000\n",
              "50%     745.500000    29.000000  9.000000e+05       5.000000         0.000000\n",
              "75%    1117.750000    32.000000  1.250000e+06       6.000000         1.000000\n",
              "max    1490.000000    35.000000  1.800000e+06       9.000000         1.000000"
            ]
          },
          "metadata": {},
          "execution_count": 23
        }
      ]
    },
    {
      "cell_type": "markdown",
      "metadata": {
        "id": "Hq7cxgEXfPef"
      },
      "source": [
        "Resulta util analizar algunas metricas descriptivas para ambos grupos, las personas que si contratan el seguro y las personas que no lo hacen con el objetivo de encontrar alguna variable significativamente distinta entre ambos grupos que explique la contratación o no del mismo (aunque para esto se requerirán más análisis). \n",
        "\n",
        "La unica variable que llama la atención es AnnualIncome ya que, en promedio, es un 38% mayor en el grupo que contrato el seguro. El resto de las variables son similares en ambos grupos. "
      ]
    },
    {
      "cell_type": "code",
      "metadata": {
        "colab": {
          "base_uri": "https://localhost:8080/",
          "height": 194
        },
        "id": "SOk0KaIde_MP",
        "outputId": "b81b1e01-b4a0-4d1c-b68c-9366bc86f595"
      },
      "source": [
        "train.groupby(\"TravelInsurance\").describe().round()"
      ],
      "execution_count": null,
      "outputs": [
        {
          "output_type": "execute_result",
          "data": {
            "text/html": [
              "<div>\n",
              "<style scoped>\n",
              "    .dataframe tbody tr th:only-of-type {\n",
              "        vertical-align: middle;\n",
              "    }\n",
              "\n",
              "    .dataframe tbody tr th {\n",
              "        vertical-align: top;\n",
              "    }\n",
              "\n",
              "    .dataframe thead tr th {\n",
              "        text-align: left;\n",
              "    }\n",
              "\n",
              "    .dataframe thead tr:last-of-type th {\n",
              "        text-align: right;\n",
              "    }\n",
              "</style>\n",
              "<table border=\"1\" class=\"dataframe\">\n",
              "  <thead>\n",
              "    <tr>\n",
              "      <th></th>\n",
              "      <th colspan=\"8\" halign=\"left\">Customer</th>\n",
              "      <th colspan=\"8\" halign=\"left\">Age</th>\n",
              "      <th colspan=\"8\" halign=\"left\">AnnualIncome</th>\n",
              "      <th colspan=\"8\" halign=\"left\">FamilyMembers</th>\n",
              "      <th colspan=\"8\" halign=\"left\">ChronicDiseases</th>\n",
              "    </tr>\n",
              "    <tr>\n",
              "      <th></th>\n",
              "      <th>count</th>\n",
              "      <th>mean</th>\n",
              "      <th>std</th>\n",
              "      <th>min</th>\n",
              "      <th>25%</th>\n",
              "      <th>50%</th>\n",
              "      <th>75%</th>\n",
              "      <th>max</th>\n",
              "      <th>count</th>\n",
              "      <th>mean</th>\n",
              "      <th>std</th>\n",
              "      <th>min</th>\n",
              "      <th>25%</th>\n",
              "      <th>50%</th>\n",
              "      <th>75%</th>\n",
              "      <th>max</th>\n",
              "      <th>count</th>\n",
              "      <th>mean</th>\n",
              "      <th>std</th>\n",
              "      <th>min</th>\n",
              "      <th>25%</th>\n",
              "      <th>50%</th>\n",
              "      <th>75%</th>\n",
              "      <th>max</th>\n",
              "      <th>count</th>\n",
              "      <th>mean</th>\n",
              "      <th>std</th>\n",
              "      <th>min</th>\n",
              "      <th>25%</th>\n",
              "      <th>50%</th>\n",
              "      <th>75%</th>\n",
              "      <th>max</th>\n",
              "      <th>count</th>\n",
              "      <th>mean</th>\n",
              "      <th>std</th>\n",
              "      <th>min</th>\n",
              "      <th>25%</th>\n",
              "      <th>50%</th>\n",
              "      <th>75%</th>\n",
              "      <th>max</th>\n",
              "    </tr>\n",
              "    <tr>\n",
              "      <th>TravelInsurance</th>\n",
              "      <th></th>\n",
              "      <th></th>\n",
              "      <th></th>\n",
              "      <th></th>\n",
              "      <th></th>\n",
              "      <th></th>\n",
              "      <th></th>\n",
              "      <th></th>\n",
              "      <th></th>\n",
              "      <th></th>\n",
              "      <th></th>\n",
              "      <th></th>\n",
              "      <th></th>\n",
              "      <th></th>\n",
              "      <th></th>\n",
              "      <th></th>\n",
              "      <th></th>\n",
              "      <th></th>\n",
              "      <th></th>\n",
              "      <th></th>\n",
              "      <th></th>\n",
              "      <th></th>\n",
              "      <th></th>\n",
              "      <th></th>\n",
              "      <th></th>\n",
              "      <th></th>\n",
              "      <th></th>\n",
              "      <th></th>\n",
              "      <th></th>\n",
              "      <th></th>\n",
              "      <th></th>\n",
              "      <th></th>\n",
              "      <th></th>\n",
              "      <th></th>\n",
              "      <th></th>\n",
              "      <th></th>\n",
              "      <th></th>\n",
              "      <th></th>\n",
              "      <th></th>\n",
              "      <th></th>\n",
              "    </tr>\n",
              "  </thead>\n",
              "  <tbody>\n",
              "    <tr>\n",
              "      <th>0</th>\n",
              "      <td>958.0</td>\n",
              "      <td>756.0</td>\n",
              "      <td>431.0</td>\n",
              "      <td>2.0</td>\n",
              "      <td>380.0</td>\n",
              "      <td>761.0</td>\n",
              "      <td>1126.0</td>\n",
              "      <td>1490.0</td>\n",
              "      <td>958.0</td>\n",
              "      <td>30.0</td>\n",
              "      <td>3.0</td>\n",
              "      <td>25.0</td>\n",
              "      <td>28.0</td>\n",
              "      <td>29.0</td>\n",
              "      <td>31.0</td>\n",
              "      <td>35.0</td>\n",
              "      <td>958.0</td>\n",
              "      <td>815501.0</td>\n",
              "      <td>334763.0</td>\n",
              "      <td>300000.0</td>\n",
              "      <td>500000.0</td>\n",
              "      <td>800000.0</td>\n",
              "      <td>1100000.0</td>\n",
              "      <td>1750000.0</td>\n",
              "      <td>958.0</td>\n",
              "      <td>5.0</td>\n",
              "      <td>2.0</td>\n",
              "      <td>2.0</td>\n",
              "      <td>4.0</td>\n",
              "      <td>4.0</td>\n",
              "      <td>6.0</td>\n",
              "      <td>9.0</td>\n",
              "      <td>958.0</td>\n",
              "      <td>0.0</td>\n",
              "      <td>0.0</td>\n",
              "      <td>0.0</td>\n",
              "      <td>0.0</td>\n",
              "      <td>0.0</td>\n",
              "      <td>1.0</td>\n",
              "      <td>1.0</td>\n",
              "    </tr>\n",
              "    <tr>\n",
              "      <th>1</th>\n",
              "      <td>532.0</td>\n",
              "      <td>727.0</td>\n",
              "      <td>428.0</td>\n",
              "      <td>1.0</td>\n",
              "      <td>355.0</td>\n",
              "      <td>709.0</td>\n",
              "      <td>1100.0</td>\n",
              "      <td>1484.0</td>\n",
              "      <td>532.0</td>\n",
              "      <td>30.0</td>\n",
              "      <td>3.0</td>\n",
              "      <td>25.0</td>\n",
              "      <td>27.0</td>\n",
              "      <td>30.0</td>\n",
              "      <td>33.0</td>\n",
              "      <td>35.0</td>\n",
              "      <td>532.0</td>\n",
              "      <td>1130075.0</td>\n",
              "      <td>376433.0</td>\n",
              "      <td>300000.0</td>\n",
              "      <td>800000.0</td>\n",
              "      <td>1250000.0</td>\n",
              "      <td>1400000.0</td>\n",
              "      <td>1800000.0</td>\n",
              "      <td>532.0</td>\n",
              "      <td>5.0</td>\n",
              "      <td>2.0</td>\n",
              "      <td>2.0</td>\n",
              "      <td>4.0</td>\n",
              "      <td>5.0</td>\n",
              "      <td>6.0</td>\n",
              "      <td>9.0</td>\n",
              "      <td>532.0</td>\n",
              "      <td>0.0</td>\n",
              "      <td>0.0</td>\n",
              "      <td>0.0</td>\n",
              "      <td>0.0</td>\n",
              "      <td>0.0</td>\n",
              "      <td>1.0</td>\n",
              "      <td>1.0</td>\n",
              "    </tr>\n",
              "  </tbody>\n",
              "</table>\n",
              "</div>"
            ],
            "text/plain": [
              "                Customer                            ... ChronicDiseases                    \n",
              "                   count   mean    std  min    25%  ...             min  25%  50%  75%  max\n",
              "TravelInsurance                                     ...                                    \n",
              "0                  958.0  756.0  431.0  2.0  380.0  ...             0.0  0.0  0.0  1.0  1.0\n",
              "1                  532.0  727.0  428.0  1.0  355.0  ...             0.0  0.0  0.0  1.0  1.0\n",
              "\n",
              "[2 rows x 40 columns]"
            ]
          },
          "metadata": {},
          "execution_count": 24
        }
      ]
    },
    {
      "cell_type": "code",
      "metadata": {
        "colab": {
          "base_uri": "https://localhost:8080/",
          "height": 622
        },
        "id": "DPnOjt22W2dO",
        "outputId": "f58154c8-dfc7-42eb-8cb2-567aa7fc58ac"
      },
      "source": [
        "#Definimos columnas a graficar\n",
        "col_num=list(train.select_dtypes(include=['float64', 'int']).columns)\n",
        "\n",
        "\n",
        "#Valores Nulos.#Ver si vale la pena hacer el comentario.\n",
        "row = 2\n",
        "col = 3\n",
        "i = 1 # inicia el conteo\n",
        "\n",
        "fig = plt.figure(figsize=(15,10))\n",
        "\n",
        "for columna in col_num:\n",
        "  plt.subplot(row, col, i)\n",
        "  plt.title(columna)\n",
        "  sns.histplot(data= train,\n",
        "              x= columna,\n",
        "              stat= \"count\",\n",
        "              color= \"navy\", kde=True)\n",
        "  i += 1\n",
        "\n",
        "\n",
        "plt.subplots_adjust(wspace = 0.3, hspace = 0.3) \n",
        "plt.show()"
      ],
      "execution_count": null,
      "outputs": [
        {
          "output_type": "display_data",
          "data": {
            "image/png": "[encoded data removed]",
            "text/plain": [
              "<Figure size 1080x720 with 6 Axes>"
            ]
          },
          "metadata": {
            "needs_background": "light"
          }
        }
      ]
    },
    {
      "cell_type": "code",
      "metadata": {
        "colab": {
          "base_uri": "https://localhost:8080/",
          "height": 506
        },
        "id": "qkpfvMQ5PsJY",
        "outputId": "843bf755-e42e-4f1d-9f1b-557c9d75f92a"
      },
      "source": [
        "#Analizamos matriz de correlaciones\n",
        "#Configuro tamaño\n",
        "sns.set(rc = {'figure.figsize':(15,8)})\n",
        "# Defino matriz\n",
        "correlation_matrix = train.corr().round(2)\n",
        "# Grafico matriz generada\n",
        "sns.heatmap(data=correlation_matrix, annot=True) # annot = True me permite imprimir valores."
      ],
      "execution_count": null,
      "outputs": [
        {
          "output_type": "execute_result",
          "data": {
            "text/plain": [
              "<matplotlib.axes._subplots.AxesSubplot at 0x7fc92cf92b90>"
            ]
          },
          "metadata": {},
          "execution_count": 26
        },
        {
          "output_type": "display_data",
          "data": {
            "image/png": "[encoded data removed]",
            "text/plain": [
              "<Figure size 1080x576 with 2 Axes>"
            ]
          },
          "metadata": {}
        }
      ]
    },
    {
      "cell_type": "markdown",
      "metadata": {
        "id": "SlFp4mvZWd9b"
      },
      "source": [
        "En linea con lo observado en la tabla de estadisticas descriptivas, la variable que mayor relación tiene con la variable objetivo es AnualIncome aunque con un valor de 0.4, lo cual no es muy fuerte dicha relación. Esta es positiva, lo que indicaria que es mas probable que las personas de mayor ingreso anual contraten un seguro de viaje. El resto de las variables tienen una correlación cercana a 0, y de hecho, lo que se observaba en la tabla anterior era que no diferian en ambos grupos. "
      ]
    },
    {
      "cell_type": "code",
      "metadata": {
        "colab": {
          "base_uri": "https://localhost:8080/",
          "height": 174
        },
        "id": "78OTG97IPG6q",
        "outputId": "8a7e4240-9f7b-4e06-cb58-bd33513e08d3"
      },
      "source": [
        "#Analizamos variables no numéricas.\n",
        "train.select_dtypes(include=['object']).describe()"
      ],
      "execution_count": null,
      "outputs": [
        {
          "output_type": "execute_result",
          "data": {
            "text/html": [
              "<div>\n",
              "<style scoped>\n",
              "    .dataframe tbody tr th:only-of-type {\n",
              "        vertical-align: middle;\n",
              "    }\n",
              "\n",
              "    .dataframe tbody tr th {\n",
              "        vertical-align: top;\n",
              "    }\n",
              "\n",
              "    .dataframe thead th {\n",
              "        text-align: right;\n",
              "    }\n",
              "</style>\n",
              "<table border=\"1\" class=\"dataframe\">\n",
              "  <thead>\n",
              "    <tr style=\"text-align: right;\">\n",
              "      <th></th>\n",
              "      <th>Employment Type</th>\n",
              "      <th>GraduateOrNot</th>\n",
              "      <th>FrequentFlyer</th>\n",
              "      <th>EverTravelledAbroad</th>\n",
              "    </tr>\n",
              "  </thead>\n",
              "  <tbody>\n",
              "    <tr>\n",
              "      <th>count</th>\n",
              "      <td>1490</td>\n",
              "      <td>1490</td>\n",
              "      <td>1490</td>\n",
              "      <td>1490</td>\n",
              "    </tr>\n",
              "    <tr>\n",
              "      <th>unique</th>\n",
              "      <td>2</td>\n",
              "      <td>2</td>\n",
              "      <td>2</td>\n",
              "      <td>2</td>\n",
              "    </tr>\n",
              "    <tr>\n",
              "      <th>top</th>\n",
              "      <td>Private Sector/Self Employed</td>\n",
              "      <td>Yes</td>\n",
              "      <td>No</td>\n",
              "      <td>No</td>\n",
              "    </tr>\n",
              "    <tr>\n",
              "      <th>freq</th>\n",
              "      <td>1057</td>\n",
              "      <td>1268</td>\n",
              "      <td>1173</td>\n",
              "      <td>1202</td>\n",
              "    </tr>\n",
              "  </tbody>\n",
              "</table>\n",
              "</div>"
            ],
            "text/plain": [
              "                     Employment Type  ... EverTravelledAbroad\n",
              "count                           1490  ...                1490\n",
              "unique                             2  ...                   2\n",
              "top     Private Sector/Self Employed  ...                  No\n",
              "freq                            1057  ...                1202\n",
              "\n",
              "[4 rows x 4 columns]"
            ]
          },
          "metadata": {},
          "execution_count": 27
        }
      ]
    },
    {
      "cell_type": "code",
      "metadata": {
        "colab": {
          "base_uri": "https://localhost:8080/",
          "height": 666
        },
        "id": "g3fqoiHCiBdo",
        "outputId": "389156e4-9d55-47bd-c240-fc4d336a1285"
      },
      "source": [
        "#Definimos columnas a graficar\n",
        "col_nonum=list(train.select_dtypes(include=['object']).columns)\n",
        "df_yes = train[train[\"TravelInsurance\"] == 1]\n",
        "\n",
        "row = 2\n",
        "col = 2\n",
        "i = 1 # inicia el conteo\n",
        "\n",
        "fig = plt.figure(figsize=(15,10))\n",
        "fig.suptitle('Variables para los que contrataron el seguro')\n",
        "\n",
        "for columna in col_nonum:\n",
        "  plt.subplot(row, col, i)\n",
        "  plt.title(columna)\n",
        "  df_yes[columna].value_counts().plot.barh()         \n",
        "  i += 1\n",
        "\n",
        "plt.subplots_adjust(wspace = 0.3, hspace = 0.3) \n",
        "plt.show()"
      ],
      "execution_count": null,
      "outputs": [
        {
          "output_type": "display_data",
          "data": {
            "image/png": "[encoded data removed]",
            "text/plain": [
              "<Figure size 1080x720 with 4 Axes>"
            ]
          },
          "metadata": {}
        }
      ]
    },
    {
      "cell_type": "code",
      "metadata": {
        "colab": {
          "base_uri": "https://localhost:8080/",
          "height": 646
        },
        "id": "8GX6K-30mmNZ",
        "outputId": "641fa751-edf0-479c-ca37-1bbab9b1b3dd"
      },
      "source": [
        "#Gráfico de Torta (izquierda)\n",
        "row = 2\n",
        "col = 2\n",
        "i = 1 # inicia el conteo\n",
        "fig = plt.figure(figsize=(15,10))\n",
        "fig.suptitle('Variables para los que contrataron el seguro')\n",
        "for columna in col_nonum:\n",
        "  plt.subplot(row, col, i)\n",
        "  plt.title(columna)\n",
        "  plt.pie(df_yes[columna].value_counts(), labels= df_yes[columna].unique(), autopct = '% 1.1f %%')\n",
        "  i += 1"
      ],
      "execution_count": null,
      "outputs": [
        {
          "output_type": "display_data",
          "data": {
            "image/png": "[encoded data removed]",
            "text/plain": [
              "<Figure size 1080x720 with 4 Axes>"
            ]
          },
          "metadata": {}
        }
      ]
    },
    {
      "cell_type": "markdown",
      "metadata": {
        "id": "ReCYUoaplBJp"
      },
      "source": [
        "En cuanto a las variables categoricas, se observa que las personas que contratan seguros:\n",
        "* El 81.2% pertenece al sector privado. Si analizamos el ingreso anual promedio de las personas en ambos sectores, vemos que quienes tienen sus empleos en el sector privado registran un ingreso anual promedio de 1.184.259 rupias indias mientras que en el sector publico se registran 896.000. \n",
        "* El 84.8% se ha graduado. En este caso, la relación con la variable AnnualIncome es similar.\n",
        "* El 65.8% no es viajero frecuente. \n",
        "* El 57.5% no ha viajado nunca antes al exterior. \n",
        "\n",
        "Estas ultimas parecen estar relacionadas con la precaución/desconocimiento de los viajeros que no han realizado muchos viajes previamente, por lo que suelen tomar más precauciones al momento de realizar un viaje. Si bien el porcentaje que acceden a seguros no es tan alto como en las variables anteriores, resulta interesante incluirlos en el modelo a utilizar.  "
      ]
    },
    {
      "cell_type": "markdown",
      "metadata": {
        "id": "mrm_LvFgamjQ"
      },
      "source": [
        "# 2) Modelos\n",
        "\n",
        "El modelo Baseline de la competencia de Kaggle es un árbol de decisión. El objetivo de esta sección es generar 3 modelos adicionales que intenten superar el F1 Score de la clase positiva del modelo baseline. \n",
        "\n",
        "Se presentan a continuación los 3 mejores modelos que entregamos en la competencia de Kaggle. \n",
        "\n",
        "Tomando como referencia el Private Score, los 3 mejores modelos que entregamos en la competencia de Kaggle son:\n",
        "\n",
        "1. SVC (0.69 F1Score)\n",
        "2. XGBoost (0.69 F1Score)\n",
        "3. RandomForest (0.67 F1Score) \n",
        " "
      ]
    },
    {
      "cell_type": "markdown",
      "metadata": {
        "id": "W_3AWOclxs0S"
      },
      "source": [
        "## 2.1 Modelo Baseline : Tree Clasifier\n",
        "\n",
        "Modelo generado por la materia con el objetivo de superar su F1 Score. "
      ]
    },
    {
      "cell_type": "code",
      "metadata": {
        "id": "JWsB_4sVZt_b"
      },
      "source": [
        "from sklearn.compose import make_column_transformer # Genera transformacion sobre columnas\n",
        "from sklearn.model_selection import GridSearchCV\n",
        "from sklearn.metrics import classification_report\n",
        "from sklearn.preprocessing import KBinsDiscretizer, OneHotEncoder # KBins se utiliza para discretizar valores numericos\n",
        "from sklearn.tree import DecisionTreeClassifier"
      ],
      "execution_count": null,
      "outputs": []
    },
    {
      "cell_type": "code",
      "metadata": {
        "id": "xIic6CvzZ3MN"
      },
      "source": [
        "transformer = make_column_transformer(\n",
        "    (KBinsDiscretizer(n_bins=5, encode=\"ordinal\", strategy=\"quantile\"), [\"Age\", \"AnnualIncome\"]),\n",
        "    (OneHotEncoder(categories=\"auto\", dtype=\"int\", handle_unknown=\"ignore\"),\n",
        "     [\"Employment Type\", \"GraduateOrNot\", \"FamilyMembers\", \"FrequentFlyer\", \"EverTravelledAbroad\"]),\n",
        "    remainder=\"passthrough\") "
      ],
      "execution_count": null,
      "outputs": []
    },
    {
      "cell_type": "code",
      "metadata": {
        "id": "H1kv_Qv_aQ6U"
      },
      "source": [
        "# The data for training the model\n",
        "X_train = transformer.fit_transform(train.drop(columns=[\"Customer\", \"TravelInsurance\"]))\n",
        "y_train = train[\"TravelInsurance\"].values\n",
        "\n",
        "# The test data is only for generating the submission\n",
        "X_test = transformer.transform(test.drop(columns=[\"Customer\"]))"
      ],
      "execution_count": null,
      "outputs": []
    },
    {
      "cell_type": "code",
      "metadata": {
        "id": "Kh5tQst6aNGS"
      },
      "source": [
        "search_params = {\n",
        "    'criterion': ['gini', 'entropy'],\n",
        "    'min_samples_leaf': [1, 2, 5],\n",
        "    'max_depth': [3, 6, 10]\n",
        "}\n",
        "tree = DecisionTreeClassifier(random_state=42)\n",
        "tree_clf = GridSearchCV(tree, search_params, cv=5, scoring='f1', n_jobs=-1)\n",
        "tree_clf.fit(X_train, y_train)\n",
        "\n",
        "best_tree_clf = tree_clf.best_estimator_"
      ],
      "execution_count": null,
      "outputs": []
    },
    {
      "cell_type": "code",
      "metadata": {
        "colab": {
          "base_uri": "https://localhost:8080/"
        },
        "id": "r3yqO7Pnagza",
        "outputId": "b5859020-0b61-4dae-876d-da59422aa78f"
      },
      "source": [
        "print(classification_report(y_train, best_tree_clf.predict(X_train)))"
      ],
      "execution_count": null,
      "outputs": [
        {
          "output_type": "stream",
          "name": "stdout",
          "text": [
            "              precision    recall  f1-score   support\n",
            "\n",
            "           0       0.83      0.94      0.88       958\n",
            "           1       0.86      0.66      0.75       532\n",
            "\n",
            "    accuracy                           0.84      1490\n",
            "   macro avg       0.85      0.80      0.82      1490\n",
            "weighted avg       0.84      0.84      0.84      1490\n",
            "\n"
          ]
        }
      ]
    },
    {
      "cell_type": "markdown",
      "metadata": {
        "id": "ctNvQbVEbGX8"
      },
      "source": [
        "## 2.2 Modelo Random Forest"
      ]
    },
    {
      "cell_type": "code",
      "metadata": {
        "id": "2KZtbOaOt9d8"
      },
      "source": [
        "from sklearn.model_selection import RandomizedSearchCV\n",
        "from sklearn.ensemble import RandomForestClassifier"
      ],
      "execution_count": null,
      "outputs": []
    },
    {
      "cell_type": "code",
      "metadata": {
        "id": "iSU-fHDne2Qv"
      },
      "source": [
        "transformer = make_column_transformer(\n",
        "    (KBinsDiscretizer(n_bins=6, encode=\"ordinal\", strategy=\"quantile\"), [\"Age\", \"AnnualIncome\"]),\n",
        "    (OneHotEncoder(categories=\"auto\", dtype=\"int\", handle_unknown=\"ignore\"),\n",
        "    [ \"Employment Type\", \"FamilyMembers\", \"ChronicDiseases\", \"GraduateOrNot\", \"EverTravelledAbroad\"]),\n",
        "    remainder=\"drop\")"
      ],
      "execution_count": null,
      "outputs": []
    },
    {
      "cell_type": "code",
      "metadata": {
        "id": "L88lJfWnfFHZ"
      },
      "source": [
        "# The data for training the model\n",
        "X_train = transformer.fit_transform(train.drop(columns=[\"Customer\", \"TravelInsurance\" ]))\n",
        "y_train = train[\"TravelInsurance\"].values\n",
        "\n",
        "# The test data is only for generating the submission\n",
        "X_test = transformer.transform(test.drop(columns=[\"Customer\"]))"
      ],
      "execution_count": null,
      "outputs": []
    },
    {
      "cell_type": "code",
      "metadata": {
        "colab": {
          "base_uri": "https://localhost:8080/"
        },
        "id": "eQc7904eacz7",
        "outputId": "f7b9c2a1-9f6d-4030-c7c3-77d2ba769796"
      },
      "source": [
        "search_params = {\n",
        "    'n_estimators': [10, 30, 50, 100], # Numero de arboles incluidos en el modelo\n",
        "    'criterion': ['gini', 'mse'],  \n",
        "    'max_depth': [2, 5, 10, 15], # Profundidad maxima que pueden alcanzar los arboles\n",
        "    'min_samples_split': [3, 5, 10], # Numero minimo de obs que debe tener un nodo para que pueda dividirse\n",
        "    'min_samples_leaf':[2, 5, 10],  # Numero minimo de obs que debe tener un nodo hijo para que se produzca la division\n",
        "    'max_features': [\"auto\", \"sqrt\", \"log2\", None]\n",
        "}\n",
        "\n",
        "forest_clf = RandomForestClassifier(random_state=42)\n",
        "forest_clf = GridSearchCV(forest_clf, search_params, cv=5, scoring='f1', n_jobs=-1)\n",
        "forest_clf.fit(X_train, y_train)"
      ],
      "execution_count": null,
      "outputs": [
        {
          "output_type": "execute_result",
          "data": {
            "text/plain": [
              "GridSearchCV(cv=5, error_score=nan,\n",
              "             estimator=RandomForestClassifier(bootstrap=True, ccp_alpha=0.0,\n",
              "                                              class_weight=None,\n",
              "                                              criterion='gini', max_depth=None,\n",
              "                                              max_features='auto',\n",
              "                                              max_leaf_nodes=None,\n",
              "                                              max_samples=None,\n",
              "                                              min_impurity_decrease=0.0,\n",
              "                                              min_impurity_split=None,\n",
              "                                              min_samples_leaf=1,\n",
              "                                              min_samples_split=2,\n",
              "                                              min_weight_fraction_leaf=0.0,\n",
              "                                              n_estimators=100, n_jobs=None,\n",
              "                                              oob_score=False, random_state=42,\n",
              "                                              verbose=0, warm_start=False),\n",
              "             iid='deprecated', n_jobs=-1,\n",
              "             param_grid={'criterion': ['gini', 'mse'],\n",
              "                         'max_depth': [2, 5, 10, 15],\n",
              "                         'max_features': ['auto', 'sqrt', 'log2', None],\n",
              "                         'min_samples_leaf': [2, 5, 10],\n",
              "                         'min_samples_split': [3, 5, 10],\n",
              "                         'n_estimators': [10, 30, 50, 100]},\n",
              "             pre_dispatch='2*n_jobs', refit=True, return_train_score=False,\n",
              "             scoring='f1', verbose=0)"
            ]
          },
          "metadata": {},
          "execution_count": 38
        }
      ]
    },
    {
      "cell_type": "code",
      "metadata": {
        "colab": {
          "base_uri": "https://localhost:8080/",
          "height": 140
        },
        "id": "FLvOfxTxavoH",
        "outputId": "8c099a10-63dc-42e6-cfee-9a9c6ee9fb88"
      },
      "source": [
        "display ('Best configuraton:')\n",
        "display(forest_clf.best_params_)\n",
        "\n",
        "best_forest_clf = forest_clf.best_estimator_"
      ],
      "execution_count": null,
      "outputs": [
        {
          "output_type": "display_data",
          "data": {
            "application/vnd.google.colaboratory.intrinsic+json": {
              "type": "string"
            },
            "text/plain": [
              "'Best configuraton:'"
            ]
          },
          "metadata": {}
        },
        {
          "output_type": "display_data",
          "data": {
            "text/plain": [
              "{'criterion': 'gini',\n",
              " 'max_depth': 15,\n",
              " 'max_features': None,\n",
              " 'min_samples_leaf': 2,\n",
              " 'min_samples_split': 10,\n",
              " 'n_estimators': 50}"
            ]
          },
          "metadata": {}
        }
      ]
    },
    {
      "cell_type": "code",
      "metadata": {
        "colab": {
          "base_uri": "https://localhost:8080/"
        },
        "id": "_xUsZO4-a441",
        "outputId": "881a3c83-d166-40a9-d8a6-0f6ab31a875a"
      },
      "source": [
        "print(classification_report(y_train, best_forest_clf.predict(X_train)))"
      ],
      "execution_count": null,
      "outputs": [
        {
          "output_type": "stream",
          "name": "stdout",
          "text": [
            "              precision    recall  f1-score   support\n",
            "\n",
            "           0       0.83      0.96      0.89       958\n",
            "           1       0.90      0.65      0.76       532\n",
            "\n",
            "    accuracy                           0.85      1490\n",
            "   macro avg       0.87      0.81      0.82      1490\n",
            "weighted avg       0.86      0.85      0.84      1490\n",
            "\n"
          ]
        }
      ]
    },
    {
      "cell_type": "markdown",
      "metadata": {
        "id": "80XZdOHlnEGx"
      },
      "source": [
        "El F1 Score es ligeramente mayor que el del modelo baseline (0.76 vs 0.75). "
      ]
    },
    {
      "cell_type": "markdown",
      "metadata": {
        "id": "3DbbHh1uhyKq"
      },
      "source": [
        "## 2.3 Modelo XGBoost\n",
        "\n",
        "Extreme Gradient Boosting es un algoritmo que entrena arboles de decisión individuales secuencialmente y se caracteriza por obtener buenos resultados de predicción con relativamente poco esfuerzo."
      ]
    },
    {
      "cell_type": "code",
      "metadata": {
        "id": "OKcN_IJHfWGu"
      },
      "source": [
        "import xgboost as xgb"
      ],
      "execution_count": null,
      "outputs": []
    },
    {
      "cell_type": "code",
      "metadata": {
        "id": "AdfJ6F1tfX8A"
      },
      "source": [
        "transformer = make_column_transformer(\n",
        "    (KBinsDiscretizer(n_bins=6, encode=\"ordinal\", strategy=\"quantile\"), [\"Age\", \"AnnualIncome\"]),\n",
        "    (OneHotEncoder(categories=\"auto\", dtype=\"int\", handle_unknown=\"ignore\"),\n",
        "    [ \"Employment Type\", \"FamilyMembers\", \"ChronicDiseases\", \"GraduateOrNot\", \"EverTravelledAbroad\"]),\n",
        "    remainder=\"drop\")"
      ],
      "execution_count": null,
      "outputs": []
    },
    {
      "cell_type": "code",
      "metadata": {
        "id": "lgAlgSm2f0h3"
      },
      "source": [
        "# The data for training the model\n",
        "X_train = transformer.fit_transform(train.drop(columns=[\"Customer\", \"TravelInsurance\" ]))\n",
        "y_train = train[\"TravelInsurance\"].values\n",
        "\n",
        "# The test data is only for generating the submission\n",
        "X_test = transformer.transform(test.drop(columns=[\"Customer\"]))"
      ],
      "execution_count": null,
      "outputs": []
    },
    {
      "cell_type": "code",
      "metadata": {
        "colab": {
          "base_uri": "https://localhost:8080/"
        },
        "id": "Gsrb0X-Mf3wd",
        "outputId": "f3e76e5a-aa0f-4edb-cd5e-5c31483ab1d0"
      },
      "source": [
        "xgb_clf = xgb.XGBClassifier()\n",
        "xgb_clf.fit(X_train, y_train)"
      ],
      "execution_count": null,
      "outputs": [
        {
          "output_type": "execute_result",
          "data": {
            "text/plain": [
              "XGBClassifier(base_score=0.5, booster='gbtree', colsample_bylevel=1,\n",
              "              colsample_bynode=1, colsample_bytree=1, gamma=0,\n",
              "              learning_rate=0.1, max_delta_step=0, max_depth=3,\n",
              "              min_child_weight=1, missing=None, n_estimators=100, n_jobs=1,\n",
              "              nthread=None, objective='binary:logistic', random_state=0,\n",
              "              reg_alpha=0, reg_lambda=1, scale_pos_weight=1, seed=None,\n",
              "              silent=None, subsample=1, verbosity=1)"
            ]
          },
          "metadata": {},
          "execution_count": 44
        }
      ]
    },
    {
      "cell_type": "code",
      "metadata": {
        "colab": {
          "base_uri": "https://localhost:8080/"
        },
        "id": "DxdeW8X6gHlK",
        "outputId": "a60a84e6-51f0-4530-8387-5e0a62bb2f99"
      },
      "source": [
        "print(classification_report(y_train, xgb_clf.predict(X_train)))"
      ],
      "execution_count": null,
      "outputs": [
        {
          "output_type": "stream",
          "name": "stdout",
          "text": [
            "              precision    recall  f1-score   support\n",
            "\n",
            "           0       0.82      0.97      0.89       958\n",
            "           1       0.91      0.61      0.73       532\n",
            "\n",
            "    accuracy                           0.84      1490\n",
            "   macro avg       0.87      0.79      0.81      1490\n",
            "weighted avg       0.85      0.84      0.83      1490\n",
            "\n"
          ]
        }
      ]
    },
    {
      "cell_type": "markdown",
      "metadata": {
        "id": "eO2xLBuMiW8W"
      },
      "source": [
        "Con el modelo XGBoost no se logra obtener un F1 SCore de la clase 1 superior al de los modelos anteriores. "
      ]
    },
    {
      "cell_type": "markdown",
      "metadata": {
        "id": "TcGiAek0SBKj"
      },
      "source": [
        "## 2.4 SVC : Support Vector Clasiffier"
      ]
    },
    {
      "cell_type": "code",
      "metadata": {
        "colab": {
          "base_uri": "https://localhost:8080/"
        },
        "id": "43shbuoiSDwn",
        "outputId": "23cceebd-d1af-4cd8-bc12-529f6809825d"
      },
      "source": [
        "from sklearn.svm import SVC\n",
        "\n",
        "svc = SVC(random_state = 42)\n",
        "grilla = {\"C\" : [0.001, 0.1, 0.15, 0.50, 1, 10], \n",
        "          \"kernel\" : [\"linear\", \"poly\", \"rbf\", \"sigmoid\"]}\n",
        "svc_clf = GridSearchCV(\n",
        "        estimator  = svc,\n",
        "        param_grid = grilla,\n",
        "        cv         = 5)\n",
        "\n",
        "svc_clf.fit(X_train, y_train)"
      ],
      "execution_count": null,
      "outputs": [
        {
          "output_type": "execute_result",
          "data": {
            "text/plain": [
              "GridSearchCV(cv=5, error_score=nan,\n",
              "             estimator=SVC(C=1.0, break_ties=False, cache_size=200,\n",
              "                           class_weight=None, coef0=0.0,\n",
              "                           decision_function_shape='ovr', degree=3,\n",
              "                           gamma='scale', kernel='rbf', max_iter=-1,\n",
              "                           probability=False, random_state=42, shrinking=True,\n",
              "                           tol=0.001, verbose=False),\n",
              "             iid='deprecated', n_jobs=None,\n",
              "             param_grid={'C': [0.001, 0.1, 0.15, 0.5, 1, 10],\n",
              "                         'kernel': ['linear', 'poly', 'rbf', 'sigmoid']},\n",
              "             pre_dispatch='2*n_jobs', refit=True, return_train_score=False,\n",
              "             scoring=None, verbose=0)"
            ]
          },
          "metadata": {},
          "execution_count": 46
        }
      ]
    },
    {
      "cell_type": "code",
      "metadata": {
        "colab": {
          "base_uri": "https://localhost:8080/"
        },
        "id": "hpS6dqTwVKbz",
        "outputId": "dd8e3436-0361-498d-c38c-350c75ab3462"
      },
      "source": [
        "svc_clf.best_estimator_"
      ],
      "execution_count": null,
      "outputs": [
        {
          "output_type": "execute_result",
          "data": {
            "text/plain": [
              "SVC(C=10, break_ties=False, cache_size=200, class_weight=None, coef0=0.0,\n",
              "    decision_function_shape='ovr', degree=3, gamma='scale', kernel='rbf',\n",
              "    max_iter=-1, probability=False, random_state=42, shrinking=True, tol=0.001,\n",
              "    verbose=False)"
            ]
          },
          "metadata": {},
          "execution_count": 47
        }
      ]
    },
    {
      "cell_type": "code",
      "metadata": {
        "colab": {
          "base_uri": "https://localhost:8080/"
        },
        "id": "sUiXrhx2SVQO",
        "outputId": "56bcc71e-de30-460d-dace-600ce53daf70"
      },
      "source": [
        "print(classification_report(y_train, svc_clf.predict(X_train)))"
      ],
      "execution_count": null,
      "outputs": [
        {
          "output_type": "stream",
          "name": "stdout",
          "text": [
            "              precision    recall  f1-score   support\n",
            "\n",
            "           0       0.82      0.96      0.88       958\n",
            "           1       0.91      0.61      0.73       532\n",
            "\n",
            "    accuracy                           0.84      1490\n",
            "   macro avg       0.86      0.79      0.81      1490\n",
            "weighted avg       0.85      0.84      0.83      1490\n",
            "\n"
          ]
        }
      ]
    },
    {
      "cell_type": "markdown",
      "metadata": {
        "id": "lypz60KPWP4P"
      },
      "source": [
        "# 3. Generación de Predicciones sobre test para Submission."
      ]
    },
    {
      "cell_type": "code",
      "metadata": {
        "id": "Ir_3qXko_ucr"
      },
      "source": [
        "# Generación de predicciones sobre test para submissions: \n",
        "test_id = test[\"Customer\"]\n",
        "test_pred = svc_clf.predict(X_test)"
      ],
      "execution_count": null,
      "outputs": []
    },
    {
      "cell_type": "code",
      "metadata": {
        "colab": {
          "base_uri": "https://localhost:8080/",
          "height": 206
        },
        "id": "HxfIJO24HOBK",
        "outputId": "bfb3da18-ce23-4d15-8fa7-e6c86fe2a36d"
      },
      "source": [
        "submission = pd.DataFrame(list(zip(test_id, test_pred)), columns = [\"Customer\", \"TravelInsurance\"])\n",
        "submission.head()"
      ],
      "execution_count": null,
      "outputs": [
        {
          "output_type": "execute_result",
          "data": {
            "text/html": [
              "<div>\n",
              "<style scoped>\n",
              "    .dataframe tbody tr th:only-of-type {\n",
              "        vertical-align: middle;\n",
              "    }\n",
              "\n",
              "    .dataframe tbody tr th {\n",
              "        vertical-align: top;\n",
              "    }\n",
              "\n",
              "    .dataframe thead th {\n",
              "        text-align: right;\n",
              "    }\n",
              "</style>\n",
              "<table border=\"1\" class=\"dataframe\">\n",
              "  <thead>\n",
              "    <tr style=\"text-align: right;\">\n",
              "      <th></th>\n",
              "      <th>Customer</th>\n",
              "      <th>TravelInsurance</th>\n",
              "    </tr>\n",
              "  </thead>\n",
              "  <tbody>\n",
              "    <tr>\n",
              "      <th>0</th>\n",
              "      <td>1491</td>\n",
              "      <td>0</td>\n",
              "    </tr>\n",
              "    <tr>\n",
              "      <th>1</th>\n",
              "      <td>1492</td>\n",
              "      <td>0</td>\n",
              "    </tr>\n",
              "    <tr>\n",
              "      <th>2</th>\n",
              "      <td>1493</td>\n",
              "      <td>1</td>\n",
              "    </tr>\n",
              "    <tr>\n",
              "      <th>3</th>\n",
              "      <td>1494</td>\n",
              "      <td>1</td>\n",
              "    </tr>\n",
              "    <tr>\n",
              "      <th>4</th>\n",
              "      <td>1495</td>\n",
              "      <td>1</td>\n",
              "    </tr>\n",
              "  </tbody>\n",
              "</table>\n",
              "</div>"
            ],
            "text/plain": [
              "   Customer  TravelInsurance\n",
              "0      1491                0\n",
              "1      1492                0\n",
              "2      1493                1\n",
              "3      1494                1\n",
              "4      1495                1"
            ]
          },
          "metadata": {},
          "execution_count": 50
        }
      ]
    },
    {
      "cell_type": "code",
      "metadata": {
        "colab": {
          "base_uri": "https://localhost:8080/"
        },
        "id": "RCl3k3TUHlKn",
        "outputId": "ef7cb084-d190-4951-935d-6f5c57ce0062"
      },
      "source": [
        "from google.colab import drive\n",
        "drive.mount('/content/drive', force_remount=True)\n",
        "\n",
        "# Creamos un csv con el dataframe final: \n",
        "submission.to_csv(\"/content/drive/My Drive/DiploDatos - FAMAF - Entregables/Aprendizaje Supervisado/submission_grupo8_svc_1.csv\", header = True,index = False)"
      ],
      "execution_count": null,
      "outputs": [
        {
          "output_type": "stream",
          "name": "stdout",
          "text": [
            "Mounted at /content/drive\n"
          ]
        }
      ]
    }
  ]
}